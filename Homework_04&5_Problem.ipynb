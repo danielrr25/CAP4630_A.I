{
  "cells": [
    {
      "cell_type": "markdown",
      "metadata": {
        "id": "view-in-github",
        "colab_type": "text"
      },
      "source": [
        "<a href=\"https://colab.research.google.com/github/danielrr25/CAP4630_A.I/blob/main/Homework_04%265_Problem.ipynb\" target=\"_parent\"><img src=\"https://colab.research.google.com/assets/colab-badge.svg\" alt=\"Open In Colab\"/></a>"
      ]
    },
    {
      "cell_type": "markdown",
      "metadata": {
        "id": "2vlkn-JVkjIJ"
      },
      "source": [
        "# Recurrent Neural Network Homework\n",
        "\n",
        "This is the 4th assignment for CAP 4630 and we will implement a basic RNN network and an LSTM network with Pytorch to solve two problems. \\\n",
        "You will use **\"Tasks\"** and **\"Hints\"** to finish the work. **(Total 60 points, with extra 10 bonus points)** \\\n",
        "You may use Machine Learning libaries like Scikit-learn for data preprocessing.\n",
        "\n",
        "**Task Overview:**\n",
        "- Implement a basic RNN network to solve time series prediction\n",
        "- Implement an LSTM network to conduct sentiment analysis"
      ]
    },
    {
      "cell_type": "markdown",
      "metadata": {
        "id": "RPmChtUdk1b0"
      },
      "source": [
        "## 1 - Implement a RNN model to predict time series##\n",
        "### 1.1 Prepare the data (10 Points)\n",
        "\n",
        "Prepare time series data for deep neural network training.\n",
        "\n",
        "**Tasks:**\n",
        "1. Load the given train and test data: \"train.txt\" and \"test.txt\". **(2.5 Points)**\n",
        "2. Generate the **TRAIN** and **TEST** labels. **(2.5 Points)**\n",
        "3. Normalize the **TRAIN** and **TEST** data with sklearn function \"MinMaxScaler\". **(2.5 Points)**\n",
        "4. **PRINT OUT** the **TEST** data and label. **(2.5 Points)**\n",
        "\n",
        "**Hints:**  \n",
        "1. The length of original train data is 113 which starts from **\"1949-01\"** to **\"1958-05\"**. The length of original test data is 29, which starts from **\"1958-07\"** to **\"1960-11\"**.\n",
        "2. Set the data types of both train and test data to \"float32\".\n",
        "3. Use **past 12** datapoints as input data X to predict the **next 1** datapoint as Y, which is the 'next token prediction'. The time window will be 12.\n",
        "4. The first 3 **TRAIN** data and label should be:\n",
        "\n",
        "- trainX[0] = [[0.02203858 &nbsp; 0.03856748 &nbsp; 0.077135 &nbsp;  0.06887051 &nbsp; 0.04683197 &nbsp; 0.08539945 &nbsp; 0.12121212 &nbsp; 0.12121212 &nbsp; 0.08815429 &nbsp; 0.04132232 &nbsp; 0.    &nbsp; 0.03856748]]\n",
        "- trainY[0] = [0.03030303]\n",
        "\n",
        "- trianX[1] = [[0.03856748 &nbsp; 0.077135 &nbsp;  0.06887051 &nbsp; 0.04683197  &nbsp; 0.08539945  &nbsp; 0.12121212  &nbsp; 0.12121212  &nbsp; 0.08815429  &nbsp; 0.04132232  &nbsp; 0.     &nbsp;  0.03856748   &nbsp; 0.03030303]]\n",
        "- trainY[1] = [0.06060606]\n",
        "\n",
        "- trainX[2] =  [[0.077135 &nbsp;  0.06887051 &nbsp; 0.04683197 &nbsp; 0.08539945 &nbsp; 0.12121212 &nbsp; 0.12121212 &nbsp; 0.08815429 &nbsp; 0.04132232 &nbsp; 0.    &nbsp;     0.03856748 &nbsp; 0.03030303 &nbsp; 0.06060606]]\n",
        "- trainY[2] = [0.10192838]\n",
        "\n",
        "5. Apply the MinMaxScaler to both the train and test data.\\\n",
        "https://scikit-learn.org/stable/modules/generated/sklearn.preprocessing.MinMaxScaler.html"
      ]
    },
    {
      "cell_type": "code",
      "execution_count": null,
      "metadata": {
        "id": "_kTFLzE6iwD8",
        "colab": {
          "base_uri": "https://localhost:8080/"
        },
        "outputId": "fa7d23a3-a4ab-4abd-caf4-4b2661e1d26c"
      },
      "outputs": [
        {
          "output_type": "stream",
          "name": "stdout",
          "text": [
            "TestX Shape: (17, 12)\n",
            "TestY Shape: (17,)\n",
            "First 3 samples of TestX:\n",
            "testX[0] = [1.0661157  1.1046832  0.8264463  0.70247936 0.5674931  0.64187324\n",
            " 0.70523417 0.6556474  0.8319559  0.8044077  0.87052345 1.013774  ]\n",
            "testX[1] = [1.1046832  0.8264463  0.70247936 0.5674931  0.64187324 0.70523417\n",
            " 0.6556474  0.8319559  0.8044077  0.87052345 1.013774   1.2231405 ]\n",
            "testX[2] = [0.8264463  0.70247936 0.5674931  0.64187324 0.70523417 0.6556474\n",
            " 0.8319559  0.8044077  0.87052345 1.013774   1.2231405  1.2534435 ]\n",
            "First 3 samples of TestY:\n",
            "testY[0] = 1.2231404781341553\n",
            "testY[1] = 1.2534434795379639\n",
            "testY[2] = 0.9889806509017944\n"
          ]
        }
      ],
      "source": [
        "import numpy as np\n",
        "import pandas as pd\n",
        "from pandas import read_csv\n",
        "from sklearn.preprocessing import MinMaxScaler\n",
        "\n",
        "# Step 1. Use pandas to read training and testing from txt file. (2.5 pts)\n",
        "train_data = pd.read_csv('train.txt', header=0, usecols=[1], dtype=np.float32)\n",
        "test_data = pd.read_csv('test.txt', header=0, usecols=[1], dtype=np.float32)\n",
        "\n",
        "\n",
        "# Step 2. Normalize training and test data into [0, 1]. (2.5 pts)\n",
        "# Initialize the MinMaxScaler\n",
        "scaler = MinMaxScaler(feature_range=(0, 1))\n",
        "\n",
        "# Fit the scaler on the training data and transform both train and test data\n",
        "train_scaled = scaler.fit_transform(train_data.values.reshape(-1, 1))\n",
        "test_scaled = scaler.transform(test_data.values.reshape(-1, 1))\n",
        "\n",
        "# Step 3. Create a training and test datasets. (2.5 pts)\n",
        "# Define a function to create datasets\n",
        "def create_dataset(data, look_back=12):\n",
        "    dataX, dataY = [], []\n",
        "    for i in range(len(data) - look_back):\n",
        "        a = data[i:(i + look_back), 0]\n",
        "        dataX.append(a)\n",
        "        dataY.append(data[i + look_back, 0])\n",
        "    return np.array(dataX), np.array(dataY)\n",
        "\n",
        "# Create training and testing datasets\n",
        "trainX, trainY = create_dataset(train_scaled, look_back=12)\n",
        "testX, testY = create_dataset(test_scaled, look_back=12)\n",
        "\n",
        "# Step 4. Print out the shape of data. (2.5 pts)\n",
        "print(\"TestX Shape:\", testX.shape)\n",
        "print(\"TestY Shape:\", testY.shape)\n",
        "print(\"First 3 samples of TestX:\")\n",
        "for i in range(3):\n",
        "    print(\"testX[{}] = {}\".format(i, testX[i]))\n",
        "print(\"First 3 samples of TestY:\")\n",
        "for i in range(3):\n",
        "    print(\"testY[{}] = {}\".format(i, testY[i]))"
      ]
    },
    {
      "cell_type": "markdown",
      "source": [],
      "metadata": {
        "id": "USgLjufFJ0B8"
      }
    },
    {
      "cell_type": "markdown",
      "metadata": {
        "id": "I3gs8pN-lDZe"
      },
      "source": [
        "### 1.2 - Build the RNN model (20 Points) ##\n",
        "\n",
        "\n",
        "Build a RNN model with RNN cell.\n",
        "\n",
        "**Tasks:**\n",
        "1. Build an RNN model with 1 RNN layer and 1 Linear layer, with RNN's hidden size to be 4.  **(10 Points)**\n",
        "2. Initialize model, optimizer and criterion. **(5 Points)**\n",
        "3. Train the model for **1000** epochs with **batch_size = 10** and **print out the average traning loss for every 100 epochs**. **(5 Points)**\n",
        "\n",
        "**Hints:**  \n",
        "1. You can use **nn.RNN** to specify RNN cells.\n",
        "2. Use loss function (criterion) **MSELoss()** and select **Adam** optimizer with **learning_rate=0.005** and other default settings."
      ]
    },
    {
      "cell_type": "code",
      "execution_count": null,
      "metadata": {
        "id": "i3I5ig_DlFhw",
        "colab": {
          "base_uri": "https://localhost:8080/"
        },
        "outputId": "99902d38-76dd-46a5-b607-7acc7455e057"
      },
      "outputs": [
        {
          "output_type": "stream",
          "name": "stdout",
          "text": [
            "Epoch 100/1000, Training Loss: 0.0056\n",
            "Epoch 200/1000, Training Loss: 0.0036\n",
            "Epoch 300/1000, Training Loss: 0.0051\n",
            "Epoch 400/1000, Training Loss: 0.0035\n",
            "Epoch 500/1000, Training Loss: 0.0033\n",
            "Epoch 600/1000, Training Loss: 0.0030\n",
            "Epoch 700/1000, Training Loss: 0.0030\n",
            "Epoch 800/1000, Training Loss: 0.0033\n",
            "Epoch 900/1000, Training Loss: 0.0024\n",
            "Epoch 1000/1000, Training Loss: 0.0024\n"
          ]
        }
      ],
      "source": [
        "import torch.nn as nn\n",
        "import torch\n",
        "import torch.optim as optim\n",
        "from torch.utils.data import DataLoader, TensorDataset\n",
        "# Complete the model architecture (10 pts)\n",
        "class RNN(nn.Module):\n",
        "    def __init__(self, input_size, hidden_size, output_size):\n",
        "      super(RNN, self).__init__()\n",
        "      self.hidden_size = hidden_size\n",
        "      self.rnn = nn.RNN(input_size, hidden_size, batch_first=True)\n",
        "      self.fc = nn.Linear(hidden_size, output_size)\n",
        "\n",
        "    def forward(self, x):\n",
        "      # Initialize the hidden state with zeros\n",
        "      h0 = torch.zeros(1, x.size(0), self.hidden_size).to(x.device)\n",
        "      # Forward pass to propagate the RNN\n",
        "      out, _ = self.rnn(x, h0)\n",
        "      # Pass the output of the last time step to the linear layer\n",
        "      out = self.fc(out[:, -1, :])\n",
        "      return out\n",
        "\n",
        "# Create an instance of model, optimizer and criterion. (5 pts)\n",
        "input_size = 1  # As we are dealing with sequences of individual passenger counts\n",
        "hidden_size = 4  # Given in the task\n",
        "output_size = 1  # Predicting one value\n",
        "\n",
        "# Create an instance of the RNN\n",
        "model = RNN(input_size, hidden_size, output_size)\n",
        "\n",
        "# Move model to appropriate device\n",
        "device = torch.device('cuda' if torch.cuda.is_available() else 'cpu')\n",
        "model.to(device)\n",
        "\n",
        "# Initialize the optimizer and the loss function\n",
        "optimizer = optim.Adam(model.parameters(), lr=0.005)\n",
        "criterion = nn.MSELoss()\n",
        "\n",
        "# Train the RNN Model for 1000 epoch and print out the training loss for every 100 epochs. (5 pts)\n",
        "# Convert data to PyTorch tensors and then create datasets and data loaders\n",
        "trainX_tensor = torch.tensor(trainX).unsqueeze(2).to(device)  # Adding an extra dimension for features\n",
        "trainY_tensor = torch.tensor(trainY).unsqueeze(1).to(device)\n",
        "\n",
        "# Create datasets and dataloaders\n",
        "train_dataset = TensorDataset(trainX_tensor, trainY_tensor)\n",
        "train_loader = DataLoader(train_dataset, batch_size=10, shuffle=True)\n",
        "\n",
        "# Function to train the model\n",
        "def train_model(model, criterion, optimizer, num_epochs=1000):\n",
        "    model.train()\n",
        "    for epoch in range(num_epochs):\n",
        "        running_loss = 0.0\n",
        "        for inputs, labels in train_loader:\n",
        "            optimizer.zero_grad()\n",
        "            outputs = model(inputs)\n",
        "            loss = criterion(outputs, labels)\n",
        "            loss.backward()\n",
        "            optimizer.step()\n",
        "            running_loss += loss.item()\n",
        "\n",
        "        if (epoch + 1) % 100 == 0:\n",
        "            avg_loss = running_loss / len(train_loader)\n",
        "            print(f'Epoch {epoch + 1}/{num_epochs}, Training Loss: {avg_loss:.4f}')\n",
        "\n",
        "train_model(model, criterion, optimizer)"
      ]
    },
    {
      "cell_type": "markdown",
      "metadata": {
        "id": "40mSeTPkljUl"
      },
      "source": [
        "### 1.3 Evaluate Predictive Model Performance (**Bonuse point 10 Points**)\n",
        "\n",
        "Predict datapoints with the observed datapoints and trained model.\n",
        "\n",
        "**Tasks:**\n",
        "1. Make prediction on train and test datapoints with the obtained model in section 1.2. **(2 Points)**\n",
        "2. Denormalize the prediction results back to original scale with the scaler.(scaler.inverse_transform function) **(3 Points)**\n",
        "3. Calculate root mean squared error (RMSE) and **print out** the error for **both TRAIN and TEST**. **(3 Points)**\n",
        "4. **Plot** the **TEST** label and prediction. **(2 Points)**\n",
        "\n",
        "\n",
        "**Hints:**  \n",
        "1. Scale back the predictions with the build-in function \"scaler.inverse_transform\".\\\n",
        "https://scikit-learn.org/stable/modules/generated/sklearn.preprocessing.MinMaxScaler.html#sklearn.preprocessing.MinMaxScaler.inverse_transform\n",
        "2. The plot for validation is shown below (observation test data are blue and prediction results are orange):\n",
        "![image.png](data:image/png;base64,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)\n",
        "\n",
        "<span style=\"color:magenta\">\n",
        "    The corresponding figures could be different from the one above, but should be reasonable.**\n",
        "</span>\n"
      ]
    },
    {
      "cell_type": "code",
      "execution_count": null,
      "metadata": {
        "id": "lkjlWh3TmJS5",
        "colab": {
          "base_uri": "https://localhost:8080/",
          "height": 601
        },
        "outputId": "fdc9b7b3-bfa4-44c5-e6df-5c86ece0bfb4"
      },
      "outputs": [
        {
          "output_type": "stream",
          "name": "stdout",
          "text": [
            "Training RMSE: 16.87384605407715\n",
            "Testing RMSE: 47.39250946044922\n"
          ]
        },
        {
          "output_type": "display_data",
          "data": {
            "text/plain": [
              "<Figure size 1000x600 with 1 Axes>"
            ],
            "image/png": "[encoded data removed]"
          },
          "metadata": {}
        }
      ],
      "source": [
        "# Step 1. Inference above model on training and testing data. (2 pts)\n",
        "model.eval()  # Set the model to evaluation mode\n",
        "\n",
        "# Inference on training data\n",
        "train_predictions = model(trainX_tensor).detach().cpu().numpy()\n",
        "# Inference on testing data\n",
        "testX_tensor = torch.tensor(testX).unsqueeze(2).to(device)\n",
        "test_predictions = model(testX_tensor).detach().cpu().numpy()\n",
        "\n",
        "# Step 2. Denomalization. (3 pts)\n",
        "train_predictions_denorm = scaler.inverse_transform(train_predictions)\n",
        "test_predictions_denorm = scaler.inverse_transform(test_predictions)\n",
        "\n",
        "# Step 3. Calculate root mean squared error for training and testing and print. (3 pts)\n",
        "from sklearn.metrics import mean_squared_error\n",
        "\n",
        "# Calculate RMSE for training data\n",
        "trainY_denorm = scaler.inverse_transform(trainY_tensor.numpy())\n",
        "train_rmse = mean_squared_error(trainY_denorm, train_predictions_denorm, squared=False)\n",
        "\n",
        "# Calculate RMSE for testing data\n",
        "testY_denorm = scaler.inverse_transform(testY.reshape(-1, 1))\n",
        "test_rmse = mean_squared_error(testY_denorm, test_predictions_denorm, squared=False)\n",
        "\n",
        "print(f\"Training RMSE: {train_rmse}\")\n",
        "print(f\"Testing RMSE: {test_rmse}\")\n",
        "\n",
        "# Step 4. Plot the predictions. (2 pts)\n",
        "import matplotlib.pyplot as plt\n",
        "\n",
        "# Plot predictions and actual values for test data\n",
        "plt.figure(figsize=(10, 6))\n",
        "plt.plot(testY_denorm, label='Actual Test Data', marker='o')\n",
        "plt.plot(test_predictions_denorm, label='RNN Predictions', marker='x')\n",
        "plt.title('Test Data vs RNN Predictions')\n",
        "plt.xlabel('Time Point')\n",
        "plt.ylabel('Passenger Count')\n",
        "plt.legend()\n",
        "plt.show()\n"
      ]
    },
    {
      "cell_type": "markdown",
      "metadata": {
        "id": "BE6GTXMBmcti"
      },
      "source": [
        "## 2 - Use LSTM model to conduct sentiment analysis ##\n",
        "\n",
        "### 2.1 Prepare the data (10 Points) ###\n",
        "Conduct sentiment analysis using IMDB data with reccurent neural network. Make prediction on sentiment (positive/negative) as a binary classification.\n",
        "More details can be found here, https://keras.io/api/datasets/imdb/\n",
        "\n",
        "**Tasks:**\n",
        "1. Load the data from IMDB review dataset and **print out** the lengths of sequences. **(5 Points)**\n",
        "2. Preprocess review data to meet the network input requirement by specifying **number of words=1000**, setting **the analysis length of the review = 100**, and **padding the input sequences**. **(5 Points)**\n",
        "\n",
        "**Hints:**  \n",
        "1. You may load the IMDB data with keras.datasets.imdb.load_data(num_words=max_features). Here, max_features is set to **1000**.\n",
        "2. You may use keras.preprocessing.sequence.pad_sequences(x_train, maxlen) to pad the input sequences and set maxlen to **100**.\n",
        "\n",
        "**Note:**\\\n",
        "We train the build LSTM-based model with ALL training data; the **validation set** (aka **development set**) is set with the **testing set** for model evaluation. This split is common in the application with limited sampled observation data, like NLP problems."
      ]
    },
    {
      "cell_type": "code",
      "execution_count": null,
      "metadata": {
        "id": "rQkkgTCWmg-l",
        "colab": {
          "base_uri": "https://localhost:8080/"
        },
        "outputId": "4f5633d0-873d-44da-eb3e-d487dc32a8fc"
      },
      "outputs": [
        {
          "output_type": "stream",
          "name": "stdout",
          "text": [
            "Review lengths (train): [218, 189, 141, 550, 147]\n",
            "Review lengths (test): [68, 260, 603, 181, 108]\n",
            "x_train_padded shape: (25000, 100)\n",
            "x_test_padded shape: (25000, 100)\n"
          ]
        }
      ],
      "source": [
        "import torch\n",
        "import random\n",
        "import numpy as np\n",
        "\n",
        "from keras.preprocessing import sequence\n",
        "from keras.datasets import imdb\n",
        "\n",
        "# Step 1. Load IMDB dataset from keras. (5 pts)\n",
        "max_features = 1000  # Number of words to consider as features\n",
        "(x_train, y_train), (x_test, y_test) = imdb.load_data(num_words=max_features)\n",
        "\n",
        "# Print the lengths of sequences\n",
        "print(\"Review lengths (train):\", [len(x) for x in x_train[:5]])\n",
        "print(\"Review lengths (test):\", [len(x) for x in x_test[:5]])\n",
        "\n",
        "# Step 2. Preprocess the sequences with padding (5 pts)\n",
        "\n",
        "maxlen = 100  # Pad sequences to this length\n",
        "\n",
        "# Pad the sequences in the training and testing sets\n",
        "x_train_padded = sequence.pad_sequences(x_train, maxlen=maxlen)\n",
        "x_test_padded = sequence.pad_sequences(x_test, maxlen=maxlen)\n",
        "\n",
        "# Now that the sequences are padded, print the shapes of the input sets\n",
        "print(\"x_train_padded shape:\", x_train_padded.shape)\n",
        "print(\"x_test_padded shape:\", x_test_padded.shape)\n"
      ]
    },
    {
      "cell_type": "markdown",
      "metadata": {
        "id": "SDR7ZdkusDzX"
      },
      "source": [
        "### 2.2 - Design and train LSTM model (20 Points) ###\n",
        "\n",
        "Build a LSTM model.\n",
        "\n",
        "**Tasks:**\n",
        "1. Build the LSTM model with **1 embedding layer**, **1 LSTM layer**, and **1 Linear layer**. The embedding vector is specified with the dimension of **8**. **(10 Points)**\n",
        "2. Create LSTM model with **Adam** optimizer, **binary_crossentropy** loss function (BCELoss()). **(5 Points)**  \n",
        "3. Train the LSTM model with **batch_size=64 for 10 epochs** and report **training and validation accuracies over epochs**. You need to use TensorDataset and DataLoader to split the data into batches with batch_size and shuffle the data. **(5 Points)**\n",
        "4. **Print out** best validation accuracy. **(5 Points)**\n",
        "\n",
        "\n",
        "\n",
        "**Hints:**  \n",
        "1. Set input dimension to **1000** and output dimension to **8** for embedding layer.\n",
        "2. You need to initialize hidden(h) and cell(c) for the lstm and always use h and c as input to your lstm layer. (For performance)\n",
        "3. Set **hidden dimension = 8** for LSTM layer.\n",
        "4. Use only the last layer as the input of linear layer (For performance)\n",
        "5. Set activation function to **sigmoid** for Linear layer.\n",
        "6. You may have some trouble with the data dimension, please consider using squeeze or unsqueeze to make two data have the same dimension.\n",
        "7. Write a constructor with many configurations (number of layers, embedding dimension...) could save you a lot of time for the bonus questions since you can reuse the code here."
      ]
    },
    {
      "cell_type": "code",
      "execution_count": null,
      "metadata": {
        "id": "zlzYDdE2ssF6",
        "colab": {
          "base_uri": "https://localhost:8080/"
        },
        "outputId": "e4385c07-ffcb-410c-9981-824df467d29a"
      },
      "outputs": [
        {
          "output_type": "stream",
          "name": "stdout",
          "text": [
            "Epoch 1: Validation Accuracy: 0.5611\n",
            "Epoch 2: Validation Accuracy: 0.6416\n",
            "Epoch 3: Validation Accuracy: 0.6818\n",
            "Epoch 4: Validation Accuracy: 0.7046\n",
            "Epoch 5: Validation Accuracy: 0.7289\n",
            "Epoch 6: Validation Accuracy: 0.7466\n",
            "Epoch 7: Validation Accuracy: 0.7612\n",
            "Epoch 8: Validation Accuracy: 0.7758\n",
            "Epoch 9: Validation Accuracy: 0.7878\n",
            "Epoch 10: Validation Accuracy: 0.7961\n"
          ]
        }
      ],
      "source": [
        "import torch\n",
        "import torch.nn as nn\n",
        "\n",
        "# Complete LSTM model architecture. (20 pts)\n",
        "class LSTMClassifier(nn.Module):\n",
        "    def __init__(self, max_features, embedding_dim, hidden_dim, num_layers):\n",
        "        super(LSTMClassifier, self).__init__()\n",
        "        self.embeddings = nn.Embedding(max_features, embedding_dim)  # Embedding layer\n",
        "        self.lstm = nn.LSTM(embedding_dim, hidden_dim, num_layers, batch_first=True)  # LSTM layer\n",
        "        self.classifier = nn.Linear(hidden_dim, 1)  # Linear layer for classification\n",
        "        self.sigmoid = nn.Sigmoid()  # Add the sigmoid activation function here\n",
        "\n",
        "    def forward(self, sentence):\n",
        "        sentence = self.embeddings(sentence)\n",
        "        lstm_out, _ = self.lstm(sentence)\n",
        "        sentence = self.classifier(lstm_out[:, -1, :])  # Take the last output of the LSTM for classification\n",
        "        sentence = self.sigmoid(sentence)  # Apply sigmoid to output for binary classification\n",
        "        return sentence\n",
        "\n",
        "# Create an instance of LSTM model, an adam optimizer and BCE loss. (5 pts)\n",
        "max_features = 1000  # As specified, the number of words to consider as features\n",
        "embedding_dim = 8\n",
        "hidden_dim = 8\n",
        "num_layers = 1  # Using one LSTM layer\n",
        "\n",
        "model = LSTMClassifier(max_features, embedding_dim, hidden_dim, num_layers)\n",
        "model.to(device)\n",
        "\n",
        "optimizer = torch.optim.Adam(model.parameters())\n",
        "loss_function = nn.BCELoss()\n",
        "\n",
        "# Train the model, print out the loss. (5 pts)\n",
        "\n",
        "from torch.utils.data import TensorDataset, DataLoader\n",
        "\n",
        "# Prepare the datasets and loaders\n",
        "train_dataset = TensorDataset(torch.tensor(x_train_padded), torch.tensor(y_train).float().unsqueeze(1))\n",
        "test_dataset = TensorDataset(torch.tensor(x_test_padded), torch.tensor(y_test).float().unsqueeze(1))\n",
        "\n",
        "train_loader = DataLoader(dataset=train_dataset, batch_size=64, shuffle=True)\n",
        "test_loader = DataLoader(dataset=test_dataset, batch_size=64, shuffle=False)\n",
        "\n",
        "# Train the model\n",
        "for epoch in range(10):\n",
        "    model.train()\n",
        "    for inputs, targets in train_loader:\n",
        "        optimizer.zero_grad()\n",
        "        outputs = model(inputs)\n",
        "        loss = loss_function(outputs, targets)\n",
        "        loss.backward()\n",
        "        optimizer.step()\n",
        "\n",
        "    model.eval()\n",
        "    with torch.no_grad():\n",
        "        # Calculate validation accuracy\n",
        "        val_correct, val_total = 0, 0\n",
        "        for inputs, targets in test_loader:\n",
        "            outputs = model(inputs)\n",
        "            predicted = (outputs > 0.5).float()\n",
        "            val_correct += (predicted == targets).sum().item()\n",
        "            val_total += targets.size(0)\n",
        "\n",
        "    val_accuracy = val_correct / val_total\n",
        "    print(f'Epoch {epoch + 1}: Validation Accuracy: {val_accuracy:.4f}')\n",
        "\n",
        "# At the end of training, report the best validation accuracy\n",
        "\n",
        "# Print out the best validation accuracy. (5 pts)"
      ]
    },
    {
      "cell_type": "markdown",
      "source": [
        "# Reinforcement Learning\n",
        "\n",
        "This is the 5th assignment for CAP 4630 and we will train an AI-based explorer to play a game by reinforcement learing. As domestrated below, in this game, the treasure (denoted by T) is on the right-most and the explorer (denoted by o) will learn to get the treasure by moving left and right. The explorer will be rewarded when it gets the treasure.  After serveral epoches, the explorer will learn how to get the treasure faster and finally it will go to the treasure by moving to right directly. \\\n",
        "\n",
        "You will use **\"Tasks\"** and **\"Hints\"** to finish the work. **(Total 60 points, with extra 10 bonus points)** \\\n",
        "\n",
        "Episode 1, Step1: o----T   \\\n",
        "... \\\n",
        "Episode 1, Step6: ---o-T   \\\n",
        "... \\\n",
        "Episode 1, Step10: -o---T \\\n",
        "... \\\n",
        "Episode 1, Step15: ----oT (finished) \\\n",
        "\n",
        "You will use **\"Tasks\"** and **\"Hints\"** to finish the work. **(Total 100 Points)**. Additionally, you have the opportunity to earn **(extra bonus 10 points)** for extra challenges. \\\n",
        "\n",
        "**Task Overview:**\n",
        "- Train the explorer getting the treasure quickly through Q-learning method"
      ],
      "metadata": {
        "id": "b-rR3bJasIvX"
      }
    },
    {
      "cell_type": "markdown",
      "source": [
        "## 1 Achieve Q-learning method ##\n",
        "### 1.1 Model Preparation **(5 Points)**\n",
        "\n",
        "Import useful packages and prepare hyperpaprameters for Q-learning methods.\n",
        "\n",
        "**Tasks:**\n",
        "1. Import numpy and rename it to np.\n",
        "2. Import pandas and rename it to pd.\n",
        "3. Import the library \"time\"\n",
        "4. Set the parameter as suggested\n",
        "\n",
        "**Hints:**\n",
        "1. For your first trial, you may set as it is\n",
        "2. You may explore other possibilities here when you complete the whole homework"
      ],
      "metadata": {
        "id": "xA7CH0zasLs_"
      }
    },
    {
      "cell_type": "code",
      "source": [
        "#import packages here\n",
        "import numpy as np\n",
        "import pandas as pd\n",
        "import time\n",
        "\n",
        "N_STATES = 6   # the width of 1-dim world\n",
        "ACTIONS = ['left', 'right']     # the available actions to use\n",
        "EPSILON = 0.9   # the degree of greedy (0＜ε＜1)\n",
        "ALPHA = 0.1     # learning rate (0＜α≤1)\n",
        "GAMMA = 0.9    # discount factor (0＜γ＜1)\n",
        "MAX_EPOCHES = 13   # the max epoches\n",
        "FRESH_TIME = 0.3    # the interval time"
      ],
      "metadata": {
        "id": "wirfzkkEsJW4"
      },
      "execution_count": null,
      "outputs": []
    },
    {
      "cell_type": "markdown",
      "source": [
        "# 1.2 Q table **(5 Points)**\n",
        "\n",
        "Q table is a [states * actions] matrix, which stores Q-value of taking one action in that specific state. For example, the following Q table means in state s3, it is more likely to choose a1 because it's Q-value is 5.31 which is higher than Q-value 2.33 for a0 in s3(refer to Lecture slides 16, page 35).\n",
        "![](https://drive.google.com/uc?export=view&id=1WGh7NYyYw6ccrxbDVdfbJmb_IhBfUyFf)\n",
        "\n",
        "**Tasks:**\n",
        "1. define the build_q_table function\n",
        "2. **Print Out** defined Q-table. The correct print information should be:\n",
        "\n",
        "|     | left | right |\n",
        "|-----|------|-------|\n",
        "| 0   | 0.0  | 0.0   |\n",
        "| 1   | 0.0  | 0.0   |\n",
        "| 2   | 0.0  | 0.0   |\n",
        "| 3   | 0.0  | 0.0   |\n",
        "| 4   | 0.0  | 0.0   |\n",
        "| 5   | 0.0  | 0.0   |\n",
        "\n",
        "\n",
        "    \n",
        "\n",
        "**Hints:**\n",
        "1. Using pd.DataFrame to define the Q-table.(https://pandas.pydata.org/docs/reference/api/pandas.DataFrame.html)\n",
        "2. Initialize the Q-table with all zeros."
      ],
      "metadata": {
        "id": "z0w5LxS3sRYp"
      }
    },
    {
      "cell_type": "code",
      "source": [
        "# Define the function to build the Q-table\n",
        "def build_q_table(n_states, actions):\n",
        "    table = pd.DataFrame(\n",
        "        np.zeros((n_states, len(actions))), # Initialize Q-table with zeros\n",
        "        columns=actions                     # Actions are the column names\n",
        "    )\n",
        "    return table\n",
        "\n",
        "# Create the Q-table for the given states and actions\n",
        "\n",
        "q_table = build_q_table(N_STATES, ACTIONS)\n",
        "print(q_table)\n"
      ],
      "metadata": {
        "id": "TbdlOJB7sOn7",
        "colab": {
          "base_uri": "https://localhost:8080/"
        },
        "outputId": "0583e399-0b66-4077-c1cc-01bd4e157e97"
      },
      "execution_count": null,
      "outputs": [
        {
          "output_type": "stream",
          "name": "stdout",
          "text": [
            "   left  right\n",
            "0   0.0    0.0\n",
            "1   0.0    0.0\n",
            "2   0.0    0.0\n",
            "3   0.0    0.0\n",
            "4   0.0    0.0\n",
            "5   0.0    0.0\n"
          ]
        }
      ]
    },
    {
      "cell_type": "markdown",
      "source": [
        "### 1.3 Define action **(10 Points)**\n",
        "\n",
        "In this section, we are going to define how an actor picks the actions. We introduce ε-greedy (In lecture slide 16, page 35). In the initial exploring stage, the explorer knows little about the environment. Therefore, it is better to explore randomly instead of greedy. ε-greedy is the value to control the degree of greedy. It can be changed with time lapsing. In this homework, we set it as fixed value EPSILON = 0.9. You can change it to explore the final effect.\n",
        "\n",
        "**Tasks:**\n",
        "1. define the choose_action function\n",
        "2. **Print Out** sample action. The sampled action should be \"left\" or \"right\".\n",
        "\n",
        "**Hints:**\n",
        "1. You need to define two cases: 1) non-greedy (i.e., random); 2) greedy.\n",
        "2. Non-greedy should occupy (1-ε) senario while greedy should occupy ε senario. In this case, it means Non-greedy occupys 10% senario while greedy occupys 90% senario. (you could implement it by comparing a random number ranging from 0 to 1 with ε. **Numpy provides a function capable of generating a random number from a uniform distribution.**)\n",
        "3. In the non-greedy pattern, the actor should choose the actions randomly.\n",
        "4. In the greedy pattern, the actor should choose the higher Q-value action.\n",
        "5. Don't forget the initial state which means all Q-value are zero and actor cannot choose greedily. You can treat it as non-greedy pattern."
      ],
      "metadata": {
        "id": "OfhlKeGWsT4l"
      }
    },
    {
      "cell_type": "code",
      "source": [
        "#define the function here\n",
        "# Given state and Q-table, choose action\n",
        "def choose_action(state, q_table):\n",
        "     # pick all actions from this state\n",
        "    state_actions = q_table.iloc[state, :]\n",
        "    if (np.random.uniform() > EPSILON) or ((state_actions == 0).all()):  # non-greedy or non-explored\n",
        "        action_name = np.random.choice(ACTIONS)\n",
        "    else:  # greedy\n",
        "        action_name = state_actions.idxmax()  # Select the action with max Q-value for this state\n",
        "    return action_name\n",
        "\n",
        "\n",
        "sample_action = choose_action(0, q_table)\n",
        "print(sample_action)"
      ],
      "metadata": {
        "id": "OtPWgEtosVho",
        "colab": {
          "base_uri": "https://localhost:8080/"
        },
        "outputId": "8e7e18b5-4720-493c-ad17-77b701197e8f"
      },
      "execution_count": null,
      "outputs": [
        {
          "output_type": "stream",
          "name": "stdout",
          "text": [
            "right\n"
          ]
        }
      ]
    },
    {
      "cell_type": "markdown",
      "source": [
        "### 1.4 Interact with the environment **(20 Points)**\n",
        "\n",
        "In this section, we need to give a feedback for our previous action, which means getting reward (R) for next state (S_next) based on current state (S_current) and action (A). In this problem, we get reward R=1 if we move to the treasure T spot, otherwise, we get R=0.\n",
        "\n",
        "**Tasks:**\n",
        "1. define get_env_feedback function\n",
        "**Hints:**\n",
        "1. This function contains two parameters S_current and A(ction), and return S_next and R(eward).\n",
        "2. You need to consider two different senarios: 1) A = right; 2) A = left.\n",
        "3. In the above two senarios, you need to consider the boundary, next state and rewards.\n",
        "4. The update_env function is given to show changes for different steps in different episodes.\n",
        "5. The validation for S_current and Action is shown below.\n",
        "\n",
        "- S_current=0, sample_action = 'right', sample_feedback=(1,0)\n",
        "- S_current=3, sample_action = 'right', sample_feedback=(4,0)\n",
        "- S_current=4, sample_action = 'right', sample_feedback=('terminal', 1)\n",
        "- S_current=0, sample_action = 'left', sample_feedback=(0,0)\n",
        "- S_current=3, sample_action = 'left', sample_feedback=(2,0)\n",
        "- S_current=4, sample_action = 'left', sample_feedback=(3, 0)"
      ],
      "metadata": {
        "id": "tQX7PQ5tsXpt"
      }
    },
    {
      "cell_type": "code",
      "source": [
        "#define the function here\n",
        "def get_env_feedback(S_current, A):\n",
        "    # This is how agent will interact with the environment\n",
        "    if A == 'right':  # move right\n",
        "        if S_current == N_STATES - 2:  # If the agent is at the right-most position before the treasure\n",
        "            S_next = 'terminal'\n",
        "            R = 1  # reward for finding the treasure\n",
        "        else:\n",
        "            S_next = S_current + 1\n",
        "            R = 0  # no reward for a non-terminal move\n",
        "    else:  # move left\n",
        "        if S_current == 0:\n",
        "            S_next = S_current  # remain at the same spot (hit the wall)\n",
        "            R = 0  # no reward for hitting the wall\n",
        "        else:\n",
        "            S_next = S_current - 1\n",
        "            R = 0  # no reward for a non-terminal move\n",
        "    return S_next, R\n",
        "\n",
        "sample_action = 'left'\n",
        "S_current = 4\n",
        "sample_feedback = get_env_feedback(S_current, sample_action)\n",
        "print(sample_feedback)"
      ],
      "metadata": {
        "id": "qr1W3h6ksY7V",
        "colab": {
          "base_uri": "https://localhost:8080/"
        },
        "outputId": "29734365-5e88-4c34-88d0-37b19a8f504b"
      },
      "execution_count": null,
      "outputs": [
        {
          "output_type": "stream",
          "name": "stdout",
          "text": [
            "(3, 0)\n"
          ]
        }
      ]
    },
    {
      "cell_type": "code",
      "source": [
        "def update_env(S, episode, step_counter):\n",
        "    # This is how environment be updated\n",
        "    env_list = ['-'] * (N_STATES - 1) + ['T']  # '-----T' our environment\n",
        "    if S == 'terminal':\n",
        "        interaction = 'Episode {}: total steps = {}'.format(episode + 1, step_counter)\n",
        "        print('\\r{}\\n'.format(interaction), end='')\n",
        "        time.sleep(2)\n",
        "    else:\n",
        "        env_list[S] = 'o'\n",
        "        interaction = ''.join(env_list)\n",
        "        print('\\r{}'.format(interaction), end='')\n",
        "        time.sleep(FRESH_TIME)"
      ],
      "metadata": {
        "id": "pBkBKYpDsbxK"
      },
      "execution_count": null,
      "outputs": []
    },
    {
      "cell_type": "markdown",
      "source": [
        "### 1.5 Start Q-learning with defined functions **(20 Points)**\n",
        "\n",
        "In this section, we are going to utilize all the functions defined above to do q-learning based on the optimal policy.\n",
        "![](https://drive.google.com/uc?export=view&id=10ra6mLlBHlhGNTYWwdGANoa6lC1K_7at)\n",
        "\n",
        "**Tasks**:\n",
        "1. define reinforce_learning function\n",
        "\n",
        "**Hints**:\n",
        "1. You should write this function with loops to keep updating q-table until you get to the reward spot.\n",
        "2. We have two loops, one is for different episodes and another one is for steps\n",
        "3. Whenever we take a step to the reward spot, we should end the loop and start another episode.\n",
        "4. Here is one possible example.\n",
        "\n",
        "![](https://drive.google.com/uc?export=view&id=1oo-gk710XVXbbeI7AI0uZInrnKtqGqn7)"
      ],
      "metadata": {
        "id": "Y10Ihx2lse6y"
      }
    },
    {
      "cell_type": "code",
      "source": [],
      "metadata": {
        "id": "acvU3Q5VjueA"
      },
      "execution_count": null,
      "outputs": []
    },
    {
      "cell_type": "code",
      "source": [],
      "metadata": {
        "id": "Ad2qCBwEscK_"
      },
      "execution_count": null,
      "outputs": []
    },
    {
      "cell_type": "code",
      "source": [
        "#define the function here\n",
        "def reinforce_learning():\n",
        "    # main part of RL loop\n",
        "    # build Q-table here\n",
        "    q_table = build_q_table(N_STATES, ACTIONS)\n",
        "\n",
        "    #start training loop\n",
        "    for episode in range(MAX_EPOCHES):\n",
        "        step_counter = 0  #counter for counting steps to reach the treasure\n",
        "        S_current = 0     #start from S_current\n",
        "        is_terminated = False   #flag to conrinue or stop the loop\n",
        "        update_env(S_current, episode, step_counter)   #update environment\n",
        "\n",
        "        while not is_terminated:\n",
        "            A = choose_action(S_current, q_table)\n",
        "            S_next, R = get_env_feedback(S_current, A)\n",
        "            q_predict = q_table.loc[S_current, A]\n",
        "\n",
        "            if S_next != 'terminal':                   #if the explorer doesn't get to the treasure\n",
        "                q_target = R + GAMMA * q_table.iloc[S_next, :].max()   # if next state is not terminal, how can we estimate the q value (hit: bellman equation)?\n",
        "            else:\n",
        "                q_target = R     # if next state is terminal, how can we esimate the q value?\n",
        "                is_terminated = True    # terminate this episode\n",
        "\n",
        "            q_table.loc[S_current, A] += ALPHA * (q_target - q_predict)  # update Q-table\n",
        "            S_current = S_next   # move to next state\n",
        "\n",
        "            update_env(S_current, episode, step_counter+1)\n",
        "            step_counter += 1\n",
        "    return q_table\n"
      ],
      "metadata": {
        "id": "kW_umQ6bsf86"
      },
      "execution_count": null,
      "outputs": []
    },
    {
      "cell_type": "code",
      "source": [
        "#main function to run\n",
        "if __name__ == \"__main__\":\n",
        "    q_table = reinforce_learning()\n",
        "    print('\\r\\nQ-table:\\n')\n",
        "    print(q_table)"
      ],
      "metadata": {
        "id": "8U520WbcsjPS",
        "colab": {
          "base_uri": "https://localhost:8080/"
        },
        "outputId": "d26c0fc6-5317-4dda-eebc-d3b0dcd30489"
      },
      "execution_count": null,
      "outputs": [
        {
          "output_type": "stream",
          "name": "stdout",
          "text": [
            "Episode 1: total steps = 50\n",
            "Episode 2: total steps = 42\n",
            "Episode 3: total steps = 16\n",
            "Episode 4: total steps = 10\n",
            "Episode 5: total steps = 8\n",
            "Episode 6: total steps = 7\n",
            "Episode 7: total steps = 5\n",
            "Episode 8: total steps = 6\n",
            "Episode 9: total steps = 5\n",
            "Episode 10: total steps = 7\n",
            "Episode 11: total steps = 5\n",
            "Episode 12: total steps = 5\n",
            "Episode 13: total steps = 5\n",
            "\n",
            "Q-table:\n",
            "\n",
            "       left     right\n",
            "0  0.000014  0.005612\n",
            "1  0.000003  0.030050\n",
            "2  0.000981  0.115308\n",
            "3  0.000000  0.348415\n",
            "4  0.004236  0.745813\n",
            "5  0.000000  0.000000\n"
          ]
        }
      ]
    },
    {
      "cell_type": "markdown",
      "source": [
        "### Bonus Question: Exploring the Impact of Learning Rate and Discount Factor (**10 Bonus Points**)\n",
        "\n",
        "Dive into the dynamics of reinforcement learning by experimenting with two specific configurations of the learning rate (ALPHA α) and discount factor (GAMMA γ). This focused inquiry will shed light on how different emphases on learning speed versus future reward considerations affect an agent's strategy and efficiency.\n",
        "\n",
        "**Your Experimental Setups:**\n",
        "1. **Low Learning Rate, High Discount Factor** (α = 0.1, γ = 0.9): This setting emphasizes cautious learning with a strong consideration for future rewards.\n",
        "2. **High Learning Rate, Low Discount Factor** (α = 0.9, γ = 0.1): Here, the focus shifts to rapid learning with an emphasis on immediate rewards.\n",
        "\n",
        "---\n",
        "\n",
        "#### Task 1: Plotting Steps to Success Over Episodes\n",
        "\n",
        "**Objective:**  \n",
        "Create a line graph to visualize the number of steps the agent takes to reach the goal across episodes for two different sets of Q-learning parameters.\n",
        "\n",
        "**Instructions:**  \n",
        "1. **Gather Data:** Record the number of steps required for the agent to reach the goal in each episode. Do this for both parameter configurations: α=0.1, γ=0.9 and α=0.9, γ=0.1.\n",
        "2. **Prepare the Chart:**\n",
        "   - Label the x-axis as \"Episodes\" and the y-axis as \"Steps to Reach Goal\".\n",
        "   - Choose a plotting tool (e.g., Excel, Google Sheets, Matplotlib, Seaborn).\n",
        "3. **Plot Lines:**\n",
        "   - Draw a line for each parameter set (α=0.1, γ=0.9 and α=0.9, γ=0.1), using different colors or styles to distinguish them.\n",
        "   - Add a legend to identify the lines according to the parameter settings.\n",
        "\n",
        "**Expected Analysis:**  \n",
        "Discuss how the number of steps to reach the goal changes over episodes for each parameter setting. Consider what this suggests about the efficiency of learning and adaptation strategies. Note differences in learning speed and consistency.\n",
        "\n",
        "---\n",
        "\n",
        "#### Task 2: Analyzing Cumulative Reward Patterns\n",
        "\n",
        "**Objective:**  \n",
        "Construct a line graph to illustrate the cumulative reward the agent accumulates over episodes under two different parameter settings: α=0.1, γ=0.9 and α=0.9, γ=0.1.\n",
        "\n",
        "**Instructions:**  \n",
        "1. **Gather Data:** Calculate the cumulative reward that the agent earns from the start to the success in each episode. Track this for both parameter configurations: α=0.1, γ=0.9 and α=0.9, γ=0.1.\n",
        "2. **Prepare the Chart:**\n",
        "   - Label the x-axis as \"Episodes\" and the y-axis as \"Cumulative Reward\".\n",
        "   - Choose a plotting tool (e.g., Excel, Google Sheets, Matplotlib, Seaborn).\n",
        "3. **Plot Lines:**\n",
        "   - Plot a separate line for each parameter configuration, using distinct colors or line styles.\n",
        "   - Clearly label or add a legend to distinguish between the parameter settings.\n",
        "\n",
        "**Expected Analysis:**  \n",
        "Evaluate the patterns in cumulative rewards over episodes for each set of parameters. Discuss the implications of these patterns for the agent's learning process and its ability to maximize rewards. Highlight any notable differences in reward accumulation and learning outcomes between the two parameter sets.\n"
      ],
      "metadata": {
        "id": "QMOSl7IRsmsW"
      }
    },
    {
      "cell_type": "code",
      "source": [
        "def reinforce_learning(ALPHA, GAMMA, N_EPISODES):\n",
        "    q_table = build_q_table(N_STATES, ACTIONS)\n",
        "    steps_over_episodes = []\n",
        "    cumulative_rewards = []\n",
        "\n",
        "    for episode in range(N_EPISODES):\n",
        "        step_counter = 0\n",
        "        S_current = 0\n",
        "        is_terminated = False\n",
        "        update_env(S_current, episode, step_counter)\n",
        "        cumulative_reward = 0\n",
        "\n",
        "        while not is_terminated:\n",
        "            A = choose_action(S_current, q_table)\n",
        "            S_next, R = get_env_feedback(S_current, A)\n",
        "            q_predict = q_table.loc[S_current, A]\n",
        "            cumulative_reward += R\n",
        "\n",
        "            if S_next != 'terminal':\n",
        "                q_target = R + GAMMA * q_table.iloc[S_next, :].max()\n",
        "            else:\n",
        "                q_target = R\n",
        "                is_terminated = True\n",
        "\n",
        "            q_table.loc[S_current, A] += ALPHA * (q_target - q_predict)\n",
        "            S_current = S_next\n",
        "            update_env(S_current, episode, step_counter + 1)\n",
        "            step_counter += 1\n",
        "\n",
        "        steps_over_episodes.append(step_counter)\n",
        "        cumulative_rewards.append(cumulative_reward)\n",
        "\n",
        "    return q_table, steps_over_episodes, cumulative_rewards\n",
        "\n",
        "# Run the reinforcement learning with the first set of hyperparameters.\n",
        "ALPHA_low, GAMMA_high = 0.1, 0.9\n",
        "q_table_low_alpha, steps_low_alpha, rewards_low_alpha = reinforce_learning(ALPHA_low, GAMMA_high, MAX_EPOCHES)\n",
        "\n",
        "# Run the reinforcement learning with the second set of hyperparameters.\n",
        "ALPHA_high, GAMMA_low = 0.9, 0.1\n",
        "q_table_high_alpha, steps_high_alpha, rewards_high_alpha = reinforce_learning(ALPHA_high, GAMMA_low, MAX_EPOCHES)\n",
        "\n",
        "# Now you can plot the results, analyze them, and present them as required in the assignment.\n"
      ],
      "metadata": {
        "id": "1Y2gTD1MsnHt",
        "colab": {
          "base_uri": "https://localhost:8080/"
        },
        "outputId": "628e1a0e-559a-44a6-acd4-b84643e544f2"
      },
      "execution_count": null,
      "outputs": [
        {
          "output_type": "stream",
          "name": "stdout",
          "text": [
            "Episode 1: total steps = 11\n",
            "Episode 2: total steps = 13\n",
            "Episode 3: total steps = 6\n",
            "Episode 4: total steps = 11\n",
            "Episode 5: total steps = 6\n",
            "Episode 6: total steps = 5\n",
            "Episode 7: total steps = 5\n",
            "Episode 8: total steps = 5\n",
            "Episode 9: total steps = 5\n",
            "Episode 10: total steps = 5\n",
            "Episode 11: total steps = 5\n",
            "Episode 12: total steps = 7\n",
            "Episode 13: total steps = 5\n",
            "Episode 1: total steps = 45\n",
            "Episode 2: total steps = 20\n",
            "Episode 3: total steps = 18\n",
            "Episode 4: total steps = 6\n",
            "Episode 5: total steps = 5\n",
            "Episode 6: total steps = 9\n",
            "Episode 7: total steps = 5\n",
            "Episode 8: total steps = 5\n",
            "Episode 9: total steps = 5\n",
            "Episode 10: total steps = 5\n",
            "Episode 11: total steps = 5\n",
            "Episode 12: total steps = 5\n",
            "Episode 13: total steps = 5\n"
          ]
        }
      ]
    },
    {
      "cell_type": "code",
      "source": [],
      "metadata": {
        "id": "Jt0BvNTGnHk6"
      },
      "execution_count": null,
      "outputs": []
    }
  ],
  "metadata": {
    "colab": {
      "provenance": [],
      "include_colab_link": true
    },
    "kernelspec": {
      "display_name": "Python 3",
      "name": "python3"
    },
    "language_info": {
      "name": "python"
    }
  },
  "nbformat": 4,
  "nbformat_minor": 0
}